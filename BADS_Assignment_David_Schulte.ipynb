{
 "cells": [
  {
   "cell_type": "markdown",
   "id": "focal-skiing",
   "metadata": {},
   "source": [
    "# Final Assignment: Customer Return Prediciton\n",
    "### Business Analytics and Data Science - Winter 2020/2021 - Prof. Dr. Stefan Lessmann\n",
    "### Submission by David Schulte"
   ]
  },
  {
   "cell_type": "markdown",
   "id": "acquired-cincinnati",
   "metadata": {},
   "source": [
    "## Problem statement (as given by the instructor)\n",
    "\n",
    "Customers send back a substantial part of the products that they purchase online. Return shipping is expensive for online platforms and return orders are said to reach 50% for certain industries and products. Nevertheless, free or inexpensive return shipping has become a customer expectation and de-facto standard in the fierce online competition on clothing, but shops have indirect ways to influence customer purchase behavior. For purchases where return seems likely, a shop could, for example, restrict payment options or display additional marketing communication.\n",
    "\n",
    "For this assignment, you are provided with real-world data by an online retailer. Your task is to identify the items that are likely to be returned. When a customer is about to purchase a item, which is likely to be returned, the shops is planning to show a warning message. Your task is to build a targeting model to balance potential sales and return risk in order to optimize shop revenue. The data you receive is artificially balanced (1:1 ratio between returns and non-returns).\n",
    "\n"
   ]
  },
  {
   "cell_type": "markdown",
   "id": "daily-malta",
   "metadata": {},
   "source": [
    "The metric which will be used to evaluate the final predictions will be the minimization of the given cost matrix, in which `v` is the price of the item."
   ]
  },
  {
   "cell_type": "markdown",
   "id": "iraqi-study",
   "metadata": {},
   "source": [
    "![Cost matrix](costmatrix.png)"
   ]
  },
  {
   "cell_type": "markdown",
   "id": "administrative-facing",
   "metadata": {},
   "source": [
    "## Solution"
   ]
  },
  {
   "cell_type": "markdown",
   "id": "sought-polyester",
   "metadata": {},
   "source": [
    "First, we will import from librabries commonly used in Data Science. <br/>\n",
    "Additionally, I wrote several classes, which we want to import here. This makes this notebook more readable."
   ]
  },
  {
   "cell_type": "code",
   "execution_count": 1,
   "id": "stuck-spanking",
   "metadata": {},
   "outputs": [],
   "source": [
    "import numpy as np\n",
    "import pandas as pd\n",
    "import matplotlib.pyplot as plt\n",
    "import datetime\n",
    "import seaborn as sns\n",
    "from DataCleaner import DataCleaner\n",
    "from DataTransformer import DataTransformer\n",
    "from sklearn.linear_model import LogisticRegression\n",
    "from sklearn.ensemble import RandomForestClassifier\n",
    "from sklearn.pipeline import Pipeline\n",
    "from sklearn.model_selection import train_test_split\n",
    "from sklearn.preprocessing import StandardScaler\n",
    "from sklearn.metrics import roc_curve, roc_auc_score, plot_roc_curve\n",
    "from Model import Model\n",
    "pd.set_option('mode.chained_assignment', None)\n",
    "seed = 888\n"
   ]
  },
  {
   "cell_type": "markdown",
   "id": "median-transportation",
   "metadata": {},
   "source": [
    "## Explanatory data analysis and data preparation"
   ]
  },
  {
   "cell_type": "markdown",
   "id": "funky-python",
   "metadata": {},
   "source": [
    "We will load the data into a `pandas dataframe`."
   ]
  },
  {
   "cell_type": "code",
   "execution_count": 2,
   "id": "healthy-outline",
   "metadata": {},
   "outputs": [],
   "source": [
    "df_known = pd.read_csv(\"BADS_WS2021_known.csv\", index_col='order_item_id')"
   ]
  },
  {
   "cell_type": "markdown",
   "id": "plain-joseph",
   "metadata": {},
   "source": [
    "Let us have a first look at the data."
   ]
  },
  {
   "cell_type": "code",
   "execution_count": 3,
   "id": "vertical-signal",
   "metadata": {
    "scrolled": true
   },
   "outputs": [
    {
     "data": {
      "text/html": [
       "<div>\n",
       "<style scoped>\n",
       "    .dataframe tbody tr th:only-of-type {\n",
       "        vertical-align: middle;\n",
       "    }\n",
       "\n",
       "    .dataframe tbody tr th {\n",
       "        vertical-align: top;\n",
       "    }\n",
       "\n",
       "    .dataframe thead th {\n",
       "        text-align: right;\n",
       "    }\n",
       "</style>\n",
       "<table border=\"1\" class=\"dataframe\">\n",
       "  <thead>\n",
       "    <tr style=\"text-align: right;\">\n",
       "      <th></th>\n",
       "      <th>order_date</th>\n",
       "      <th>delivery_date</th>\n",
       "      <th>item_id</th>\n",
       "      <th>item_size</th>\n",
       "      <th>item_color</th>\n",
       "      <th>brand_id</th>\n",
       "      <th>item_price</th>\n",
       "      <th>user_id</th>\n",
       "      <th>user_title</th>\n",
       "      <th>user_dob</th>\n",
       "      <th>user_state</th>\n",
       "      <th>user_reg_date</th>\n",
       "      <th>return</th>\n",
       "    </tr>\n",
       "    <tr>\n",
       "      <th>order_item_id</th>\n",
       "      <th></th>\n",
       "      <th></th>\n",
       "      <th></th>\n",
       "      <th></th>\n",
       "      <th></th>\n",
       "      <th></th>\n",
       "      <th></th>\n",
       "      <th></th>\n",
       "      <th></th>\n",
       "      <th></th>\n",
       "      <th></th>\n",
       "      <th></th>\n",
       "      <th></th>\n",
       "    </tr>\n",
       "  </thead>\n",
       "  <tbody>\n",
       "    <tr>\n",
       "      <th>1</th>\n",
       "      <td>2016-06-22</td>\n",
       "      <td>2016-06-27</td>\n",
       "      <td>643</td>\n",
       "      <td>38</td>\n",
       "      <td>navy</td>\n",
       "      <td>30</td>\n",
       "      <td>49.90</td>\n",
       "      <td>30822</td>\n",
       "      <td>Mrs</td>\n",
       "      <td>1969-04-17</td>\n",
       "      <td>Saxony</td>\n",
       "      <td>2016-06-23</td>\n",
       "      <td>0</td>\n",
       "    </tr>\n",
       "    <tr>\n",
       "      <th>2</th>\n",
       "      <td>2016-06-22</td>\n",
       "      <td>NaN</td>\n",
       "      <td>337</td>\n",
       "      <td>152</td>\n",
       "      <td>grey</td>\n",
       "      <td>30</td>\n",
       "      <td>19.95</td>\n",
       "      <td>30822</td>\n",
       "      <td>Mrs</td>\n",
       "      <td>1969-04-17</td>\n",
       "      <td>Saxony</td>\n",
       "      <td>2016-06-23</td>\n",
       "      <td>0</td>\n",
       "    </tr>\n",
       "    <tr>\n",
       "      <th>3</th>\n",
       "      <td>2016-06-22</td>\n",
       "      <td>2016-06-27</td>\n",
       "      <td>270</td>\n",
       "      <td>xxl</td>\n",
       "      <td>grey</td>\n",
       "      <td>49</td>\n",
       "      <td>79.90</td>\n",
       "      <td>30823</td>\n",
       "      <td>Mrs</td>\n",
       "      <td>1970-04-22</td>\n",
       "      <td>Baden-Wuerttemberg</td>\n",
       "      <td>2015-03-15</td>\n",
       "      <td>1</td>\n",
       "    </tr>\n",
       "    <tr>\n",
       "      <th>4</th>\n",
       "      <td>2016-06-22</td>\n",
       "      <td>2016-06-27</td>\n",
       "      <td>142</td>\n",
       "      <td>xxl</td>\n",
       "      <td>grey</td>\n",
       "      <td>49</td>\n",
       "      <td>99.90</td>\n",
       "      <td>30823</td>\n",
       "      <td>Mrs</td>\n",
       "      <td>1970-04-22</td>\n",
       "      <td>Baden-Wuerttemberg</td>\n",
       "      <td>2015-03-15</td>\n",
       "      <td>0</td>\n",
       "    </tr>\n",
       "    <tr>\n",
       "      <th>5</th>\n",
       "      <td>2016-06-22</td>\n",
       "      <td>2016-06-27</td>\n",
       "      <td>561</td>\n",
       "      <td>xxl</td>\n",
       "      <td>grey</td>\n",
       "      <td>3</td>\n",
       "      <td>14.90</td>\n",
       "      <td>30823</td>\n",
       "      <td>Mrs</td>\n",
       "      <td>1970-04-22</td>\n",
       "      <td>Baden-Wuerttemberg</td>\n",
       "      <td>2015-03-15</td>\n",
       "      <td>1</td>\n",
       "    </tr>\n",
       "    <tr>\n",
       "      <th>6</th>\n",
       "      <td>2016-06-22</td>\n",
       "      <td>2016-06-27</td>\n",
       "      <td>579</td>\n",
       "      <td>xxl</td>\n",
       "      <td>grey</td>\n",
       "      <td>3</td>\n",
       "      <td>19.90</td>\n",
       "      <td>30823</td>\n",
       "      <td>Mrs</td>\n",
       "      <td>1970-04-22</td>\n",
       "      <td>Baden-Wuerttemberg</td>\n",
       "      <td>2015-03-15</td>\n",
       "      <td>1</td>\n",
       "    </tr>\n",
       "    <tr>\n",
       "      <th>7</th>\n",
       "      <td>2016-06-22</td>\n",
       "      <td>2016-06-27</td>\n",
       "      <td>72</td>\n",
       "      <td>41</td>\n",
       "      <td>grey</td>\n",
       "      <td>1</td>\n",
       "      <td>119.90</td>\n",
       "      <td>30823</td>\n",
       "      <td>Mrs</td>\n",
       "      <td>1970-04-22</td>\n",
       "      <td>Baden-Wuerttemberg</td>\n",
       "      <td>2015-03-15</td>\n",
       "      <td>0</td>\n",
       "    </tr>\n",
       "    <tr>\n",
       "      <th>8</th>\n",
       "      <td>2016-06-22</td>\n",
       "      <td>2016-06-27</td>\n",
       "      <td>106</td>\n",
       "      <td>50</td>\n",
       "      <td>white</td>\n",
       "      <td>6</td>\n",
       "      <td>39.90</td>\n",
       "      <td>30823</td>\n",
       "      <td>Mrs</td>\n",
       "      <td>1970-04-22</td>\n",
       "      <td>Baden-Wuerttemberg</td>\n",
       "      <td>2015-03-15</td>\n",
       "      <td>1</td>\n",
       "    </tr>\n",
       "    <tr>\n",
       "      <th>9</th>\n",
       "      <td>2016-06-22</td>\n",
       "      <td>2016-06-27</td>\n",
       "      <td>195</td>\n",
       "      <td>xxl</td>\n",
       "      <td>blue</td>\n",
       "      <td>46</td>\n",
       "      <td>13.90</td>\n",
       "      <td>30823</td>\n",
       "      <td>Mrs</td>\n",
       "      <td>1970-04-22</td>\n",
       "      <td>Baden-Wuerttemberg</td>\n",
       "      <td>2015-03-15</td>\n",
       "      <td>1</td>\n",
       "    </tr>\n",
       "    <tr>\n",
       "      <th>10</th>\n",
       "      <td>2016-06-22</td>\n",
       "      <td>2016-06-27</td>\n",
       "      <td>195</td>\n",
       "      <td>xxl</td>\n",
       "      <td>grey</td>\n",
       "      <td>46</td>\n",
       "      <td>19.90</td>\n",
       "      <td>30823</td>\n",
       "      <td>Mrs</td>\n",
       "      <td>1970-04-22</td>\n",
       "      <td>Baden-Wuerttemberg</td>\n",
       "      <td>2015-03-15</td>\n",
       "      <td>1</td>\n",
       "    </tr>\n",
       "  </tbody>\n",
       "</table>\n",
       "</div>"
      ],
      "text/plain": [
       "               order_date delivery_date  item_id item_size item_color  \\\n",
       "order_item_id                                                           \n",
       "1              2016-06-22    2016-06-27      643        38       navy   \n",
       "2              2016-06-22           NaN      337       152       grey   \n",
       "3              2016-06-22    2016-06-27      270       xxl       grey   \n",
       "4              2016-06-22    2016-06-27      142       xxl       grey   \n",
       "5              2016-06-22    2016-06-27      561       xxl       grey   \n",
       "6              2016-06-22    2016-06-27      579       xxl       grey   \n",
       "7              2016-06-22    2016-06-27       72        41       grey   \n",
       "8              2016-06-22    2016-06-27      106        50      white   \n",
       "9              2016-06-22    2016-06-27      195       xxl       blue   \n",
       "10             2016-06-22    2016-06-27      195       xxl       grey   \n",
       "\n",
       "               brand_id  item_price  user_id user_title    user_dob  \\\n",
       "order_item_id                                                         \n",
       "1                    30       49.90    30822        Mrs  1969-04-17   \n",
       "2                    30       19.95    30822        Mrs  1969-04-17   \n",
       "3                    49       79.90    30823        Mrs  1970-04-22   \n",
       "4                    49       99.90    30823        Mrs  1970-04-22   \n",
       "5                     3       14.90    30823        Mrs  1970-04-22   \n",
       "6                     3       19.90    30823        Mrs  1970-04-22   \n",
       "7                     1      119.90    30823        Mrs  1970-04-22   \n",
       "8                     6       39.90    30823        Mrs  1970-04-22   \n",
       "9                    46       13.90    30823        Mrs  1970-04-22   \n",
       "10                   46       19.90    30823        Mrs  1970-04-22   \n",
       "\n",
       "                       user_state user_reg_date  return  \n",
       "order_item_id                                            \n",
       "1                          Saxony    2016-06-23       0  \n",
       "2                          Saxony    2016-06-23       0  \n",
       "3              Baden-Wuerttemberg    2015-03-15       1  \n",
       "4              Baden-Wuerttemberg    2015-03-15       0  \n",
       "5              Baden-Wuerttemberg    2015-03-15       1  \n",
       "6              Baden-Wuerttemberg    2015-03-15       1  \n",
       "7              Baden-Wuerttemberg    2015-03-15       0  \n",
       "8              Baden-Wuerttemberg    2015-03-15       1  \n",
       "9              Baden-Wuerttemberg    2015-03-15       1  \n",
       "10             Baden-Wuerttemberg    2015-03-15       1  "
      ]
     },
     "execution_count": 3,
     "metadata": {},
     "output_type": "execute_result"
    }
   ],
   "source": [
    "df_known.head(10)"
   ]
  },
  {
   "cell_type": "code",
   "execution_count": 4,
   "id": "ordered-nutrition",
   "metadata": {
    "scrolled": false
   },
   "outputs": [
    {
     "name": "stdout",
     "output_type": "stream",
     "text": [
      "<class 'pandas.core.frame.DataFrame'>\n",
      "Int64Index: 100000 entries, 1 to 100000\n",
      "Data columns (total 13 columns):\n",
      " #   Column         Non-Null Count   Dtype  \n",
      "---  ------         --------------   -----  \n",
      " 0   order_date     100000 non-null  object \n",
      " 1   delivery_date  90682 non-null   object \n",
      " 2   item_id        100000 non-null  int64  \n",
      " 3   item_size      100000 non-null  object \n",
      " 4   item_color     100000 non-null  object \n",
      " 5   brand_id       100000 non-null  int64  \n",
      " 6   item_price     100000 non-null  float64\n",
      " 7   user_id        100000 non-null  int64  \n",
      " 8   user_title     100000 non-null  object \n",
      " 9   user_dob       91275 non-null   object \n",
      " 10  user_state     100000 non-null  object \n",
      " 11  user_reg_date  100000 non-null  object \n",
      " 12  return         100000 non-null  int64  \n",
      "dtypes: float64(1), int64(4), object(8)\n",
      "memory usage: 10.7+ MB\n"
     ]
    }
   ],
   "source": [
    "df_known.info()"
   ]
  },
  {
   "cell_type": "markdown",
   "id": "confused-algebra",
   "metadata": {},
   "source": [
    "We can instantly make the following observations.<br/>\n",
    "- The data contains 12 feature variables and our target *return*.\n",
    "- There are 100,000 data points.\n",
    "- Each row corresponds to one item in an individual order and and order can consist of several rows.\n",
    "- There are missing values for the features `delivey_date` and `user_dob`.\n",
    "\n",
    "Our data has the following features:\n",
    "- `order_date`: date an item was ordered\n",
    "- `delivery_date`: date an item was delivered\n",
    "- `item_id`: unique ID of the item\n",
    "- `item_size`: size of the item\n",
    "- `item_price`: price of the item\n",
    "- `user_title`: customer title\n",
    "- `user_dob`: date of birth of the customer\n",
    "- `user_state`: state of the customer\n",
    "- `user_reg_date`: date of registration of the customer\n",
    "\n"
   ]
  },
  {
   "cell_type": "markdown",
   "id": "bound-vancouver",
   "metadata": {},
   "source": [
    "### Data type conversion\n",
    "Before we focus more on the data, we want to typecast the features to more suitable datatypes. <br/>\n",
    "We will use the class DataTransformer, that I wrote for this project. It is a custom transformer that has several functions that help us with the process of data cleaning and feature engineering. It is compatible with `scikit-learn `. This brings some advantages, as we will see later in this notebook."
   ]
  },
  {
   "cell_type": "code",
   "execution_count": 5,
   "id": "happy-injury",
   "metadata": {},
   "outputs": [],
   "source": [
    "transformer = DataTransformer()"
   ]
  },
  {
   "cell_type": "markdown",
   "id": "senior-scale",
   "metadata": {},
   "source": [
    "We will change the datatypes of our features. We will downcast the numerical values, as neither of them needs 64 bits storage.\n",
    "The dates will be converted to the pandas datatype `datetime`. The other features with type `object` will be converted into `category`. <br/>\n",
    "Although the IDs are categorical features, we will leave them as they are for now, because we can visualize them better this way."
   ]
  },
  {
   "cell_type": "code",
   "execution_count": 6,
   "id": "dominican-resort",
   "metadata": {},
   "outputs": [],
   "source": [
    "df_known = transformer.convert_data_types(df_known)"
   ]
  },
  {
   "cell_type": "code",
   "execution_count": 7,
   "id": "quarterly-great",
   "metadata": {},
   "outputs": [
    {
     "name": "stdout",
     "output_type": "stream",
     "text": [
      "<class 'pandas.core.frame.DataFrame'>\n",
      "Int64Index: 100000 entries, 1 to 100000\n",
      "Data columns (total 13 columns):\n",
      " #   Column         Non-Null Count   Dtype         \n",
      "---  ------         --------------   -----         \n",
      " 0   order_date     100000 non-null  datetime64[ns]\n",
      " 1   delivery_date  90682 non-null   datetime64[ns]\n",
      " 2   item_id        100000 non-null  int32         \n",
      " 3   item_size      100000 non-null  category      \n",
      " 4   item_color     100000 non-null  category      \n",
      " 5   brand_id       100000 non-null  int32         \n",
      " 6   item_price     100000 non-null  float32       \n",
      " 7   user_id        100000 non-null  int32         \n",
      " 8   user_title     100000 non-null  category      \n",
      " 9   user_dob       91275 non-null   datetime64[ns]\n",
      " 10  user_state     100000 non-null  category      \n",
      " 11  user_reg_date  100000 non-null  datetime64[ns]\n",
      " 12  return         100000 non-null  int64         \n",
      "dtypes: category(4), datetime64[ns](4), float32(1), int32(3), int64(1)\n",
      "memory usage: 6.5 MB\n"
     ]
    }
   ],
   "source": [
    "df_known.info()"
   ]
  },
  {
   "cell_type": "markdown",
   "id": "earlier-lancaster",
   "metadata": {},
   "source": [
    "Our data is now easier to work with and memory usage has decreased significantly."
   ]
  },
  {
   "cell_type": "markdown",
   "id": "dependent-ceramic",
   "metadata": {},
   "source": [
    "### Visualization of the numerical features\n",
    "Let us have a closer look at the data."
   ]
  },
  {
   "cell_type": "code",
   "execution_count": 8,
   "id": "korean-separation",
   "metadata": {
    "scrolled": false
   },
   "outputs": [
    {
     "data": {
      "image/png": "[encoded data removed]",
      "text/plain": [
       "<Figure size 1152x1152 with 9 Axes>"
      ]
     },
     "metadata": {
      "needs_background": "light"
     },
     "output_type": "display_data"
    }
   ],
   "source": [
    "df_known.hist(figsize=(16, 16), bins=100, xlabelsize=8, ylabelsize=8); # produces one histogram per feature"
   ]
  },
  {
   "cell_type": "markdown",
   "id": "graduate-supervision",
   "metadata": {},
   "source": [
    "We make the following observations:\n",
    "- All items were ordered between July and September of 2016.\n",
    "- There are some wrong values for the delivery date.\n",
    "- There are big differences in how often a specific item was ordered. Also, the histogram has a shape of two peaks. This could be the result of the system that was used to assign items their ID, but we do not know, how to interpret it.\n",
    "- Similarly to the items, some brands are being ordered more often than others.\n",
    "- The histogram of item prices is skewed right. Also, there are some extreme outlieres.\n",
    "- There is a visible pattern in the histogram of user IDs. Users that have a higher ID than 3000 seem to order more. This also could be the result of the assignment of IDs.\n",
    "- The date of birth of users has some extreme values, namely around 1900. These values are not believable. The other values seem to be approximately normally distributed.\n",
    "- Most registration dates of users are at a specific date in 2015, which is the earliest of all values. It is likely that users, whose registration date has this label, registered at or before this date. Apart from that, there seems to be a slight upwards-trend towards the future.\n",
    "- As in the data description, the rows with return and not returned items are artificially balanced. We have slightly more not returned items in our data set."
   ]
  },
  {
   "cell_type": "markdown",
   "id": "fuzzy-bradley",
   "metadata": {},
   "source": [
    "### Comparing known and unknown data\n",
    "Now, we will inspect the unknown data to see, if it is similar to the known data."
   ]
  },
  {
   "cell_type": "code",
   "execution_count": 9,
   "id": "appointed-engagement",
   "metadata": {},
   "outputs": [
    {
     "data": {
      "image/png": "[encoded data removed]",
      "text/plain": [
       "<Figure size 1152x1152 with 9 Axes>"
      ]
     },
     "metadata": {
      "needs_background": "light"
     },
     "output_type": "display_data"
    }
   ],
   "source": [
    "df_unknown = pd.read_csv(\"BADS_WS2021_unknown.csv\", index_col='order_item_id')\n",
    "df_unknown = transformer.convert_data_types(df_unknown)\n",
    "df_unknown.hist(figsize=(16, 16), bins=100, xlabelsize=8, ylabelsize=8); # produces one histogram per feature"
   ]
  },
  {
   "cell_type": "markdown",
   "id": "monthly-jimmy",
   "metadata": {},
   "source": [
    "The histograms are mostly very similar. However, the following differences stand out:\n",
    "- The items were orderes between October and December of 2016.\n",
    "- Items with lower IDs were not ordered as often as before. One could imagine that items with lower IDs are more in demand around summer and early fall than in winter, but that is pure speculation.\n",
    "- A lot of the orders are from users with higher user IDs than we have seen before."
   ]
  },
  {
   "cell_type": "markdown",
   "id": "original-declaration",
   "metadata": {},
   "source": [
    "Before continuing, we want to make sure that the user IDs from both datasets belong to the same users and no IDs were being reassigned. To do this, we will test, if a user with a specific ID that is contained in both data sets has the same attributes, namely `user_dob`, `user_title` and `user_state`."
   ]
  },
  {
   "cell_type": "code",
   "execution_count": 10,
   "id": "swedish-disease",
   "metadata": {
    "scrolled": true
   },
   "outputs": [
    {
     "name": "stdout",
     "output_type": "stream",
     "text": [
      "The user IDs belong to the same users.\n"
     ]
    }
   ],
   "source": [
    "common_users = np.intersect1d(df_known.user_id, df_unknown.user_id).tolist()\n",
    "\n",
    "for user in common_users:\n",
    "    \n",
    "    users_identical = True\n",
    "    \n",
    "    known_state = pd.unique(df_known.loc[df_known['user_id']==user,'user_state'])\n",
    "    unknown_state = pd.unique(df_unknown.loc[df_unknown['user_id']==user,'user_state'])\n",
    "    known_title = pd.unique(df_known.loc[df_known['user_id']==user,'user_title'])\n",
    "    unknown_title = pd.unique(df_unknown.loc[df_unknown['user_id']==user,'user_title'])\n",
    "    known_dob = pd.unique(df_known.loc[df_known['user_id']==user,'user_dob'])\n",
    "    unknown_dob = pd.unique(df_unknown.loc[df_unknown['user_id']==user,'user_dob'])\n",
    "\n",
    "    if unknown_state[0] != known_state[0] or unknown_title[0] != known_title[0] or unknown_dob[0] != known_dob[0]:\n",
    "        users_identical = False\n",
    "        \n",
    "if users_identical:\n",
    "    print(\"The user IDs belong to the same users.\")\n",
    "else:\n",
    "    print(\"The user IDs do not belong to the same users.\")"
   ]
  },
  {
   "cell_type": "markdown",
   "id": "awful-boston",
   "metadata": {},
   "source": [
    "We will do the same with the items, by checking, if they have the same `brand_id`."
   ]
  },
  {
   "cell_type": "code",
   "execution_count": 11,
   "id": "perceived-application",
   "metadata": {},
   "outputs": [
    {
     "name": "stdout",
     "output_type": "stream",
     "text": [
      "The item IDs belong to the same items.\n"
     ]
    }
   ],
   "source": [
    "common_items = np.intersect1d(df_known.item_id, df_unknown.item_id).tolist()\n",
    "\n",
    "for item in common_items:\n",
    "    \n",
    "    items_identical = True\n",
    "    \n",
    "    known_brand = pd.unique(df_known.loc[df_known['item_id']==item,'brand_id'])\n",
    "    unknown_brand = pd.unique(df_unknown.loc[df_unknown['item_id']==item,'brand_id'])\n",
    "    \n",
    "    if unknown_brand[0] != known_brand[0]:\n",
    "        users_identical = False\n",
    "        \n",
    "if items_identical:\n",
    "    print(\"The item IDs belong to the same items.\")\n",
    "else:\n",
    "    print(\"The item IDs do not belong to the same items.\")"
   ]
  },
  {
   "cell_type": "markdown",
   "id": "satellite-lloyd",
   "metadata": {},
   "source": [
    "The IDs are in fact consistent."
   ]
  },
  {
   "cell_type": "markdown",
   "id": "traditional-plastic",
   "metadata": {},
   "source": [
    "### Exploring of the categorical variables"
   ]
  },
  {
   "cell_type": "code",
   "execution_count": 12,
   "id": "large-surface",
   "metadata": {},
   "outputs": [
    {
     "data": {
      "text/plain": [
       "l       12347\n",
       "xl      10979\n",
       "m       10190\n",
       "xxl      8966\n",
       "40       7693\n",
       "        ...  \n",
       "3834        1\n",
       "12+         1\n",
       "105         1\n",
       "4034        1\n",
       "3132        1\n",
       "Name: item_size, Length: 102, dtype: int64"
      ]
     },
     "execution_count": 12,
     "metadata": {},
     "output_type": "execute_result"
    }
   ],
   "source": [
    "df_known['item_size'].value_counts()"
   ]
  },
  {
   "cell_type": "markdown",
   "id": "parallel-annotation",
   "metadata": {},
   "source": [
    "There are a lot of different item sizes. There may be a way to regroup them, but we will further investigate this. The reason is that there is no indication, why the size of an item should influence the probability of it being returned."
   ]
  },
  {
   "cell_type": "code",
   "execution_count": 13,
   "id": "everyday-wagner",
   "metadata": {},
   "outputs": [
    {
     "data": {
      "text/plain": [
       "black          18640\n",
       "blue           10625\n",
       "brown           8734\n",
       "grey            8708\n",
       "red             7264\n",
       "               ...  \n",
       "copper coin        7\n",
       "amethyst           5\n",
       "avocado            4\n",
       "creme              4\n",
       "opal               2\n",
       "Name: item_color, Length: 77, dtype: int64"
      ]
     },
     "execution_count": 13,
     "metadata": {},
     "output_type": "execute_result"
    }
   ],
   "source": [
    "df_known['item_color'].value_counts()"
   ]
  },
  {
   "cell_type": "code",
   "execution_count": 14,
   "id": "modified-samba",
   "metadata": {},
   "outputs": [
    {
     "data": {
      "text/plain": [
       "19205"
      ]
     },
     "execution_count": 14,
     "metadata": {},
     "output_type": "execute_result"
    }
   ],
   "source": [
    "df_known['user_id'].nunique()"
   ]
  },
  {
   "cell_type": "code",
   "execution_count": 15,
   "id": "simplified-earthquake",
   "metadata": {
    "scrolled": true
   },
   "outputs": [
    {
     "data": {
      "text/plain": [
       "Mrs             95429\n",
       "Mr               3915\n",
       "Family            414\n",
       "Company           128\n",
       "not reported      114\n",
       "Name: user_title, dtype: int64"
      ]
     },
     "execution_count": 15,
     "metadata": {},
     "output_type": "execute_result"
    }
   ],
   "source": [
    "df_known['user_title'].value_counts()"
   ]
  },
  {
   "cell_type": "markdown",
   "id": "creative-campbell",
   "metadata": {},
   "source": [
    "We see that the vast majority of orders were being done by female customers. Also, some titles were not reported."
   ]
  },
  {
   "cell_type": "code",
   "execution_count": 16,
   "id": "fifty-shaft",
   "metadata": {
    "scrolled": true
   },
   "outputs": [
    {
     "data": {
      "text/plain": [
       "<AxesSubplot:xlabel='user_title'>"
      ]
     },
     "execution_count": 16,
     "metadata": {},
     "output_type": "execute_result"
    },
    {
     "data": {
      "image/png": "[encoded data removed]",
      "text/plain": [
       "<Figure size 432x288 with 1 Axes>"
      ]
     },
     "metadata": {
      "needs_background": "light"
     },
     "output_type": "display_data"
    }
   ],
   "source": [
    "user_title = df_known.groupby(['return', 'user_title']).size().reset_index().pivot(columns='return', index='user_title', values=0)\n",
    "                                                                       \n",
    "#user_title.plot(kind='bar', stacked=True);\n",
    "user_title.div(user_title.sum(1).astype(float), axis=0).plot(kind=\"bar\", stacked=True)"
   ]
  },
  {
   "cell_type": "code",
   "execution_count": 17,
   "id": "tired-runner",
   "metadata": {},
   "outputs": [
    {
     "data": {
      "text/plain": [
       "3633     24\n",
       "36816    18\n",
       "347      17\n",
       "46613    16\n",
       "10132    10\n",
       "46360     7\n",
       "32416     7\n",
       "39520     4\n",
       "37934     4\n",
       "47241     3\n",
       "42983     3\n",
       "43704     3\n",
       "33343     2\n",
       "24884     2\n",
       "35885     2\n",
       "20045     1\n",
       "31373     1\n",
       "8150      1\n",
       "41880     1\n",
       "45426     1\n",
       "29182     1\n",
       "Name: user_id, dtype: int64"
      ]
     },
     "execution_count": 17,
     "metadata": {},
     "output_type": "execute_result"
    }
   ],
   "source": [
    "df_known.loc[df_known['user_title']=='Company', 'user_id'].value_counts()"
   ]
  },
  {
   "cell_type": "markdown",
   "id": "arctic-network",
   "metadata": {},
   "source": [
    "The return rate of companies is different. However, we will not consider it, because there are so few companies in our dataset."
   ]
  },
  {
   "cell_type": "code",
   "execution_count": 18,
   "id": "polyphonic-private",
   "metadata": {
    "scrolled": false
   },
   "outputs": [
    {
     "data": {
      "text/plain": [
       "<AxesSubplot:xlabel='user_state'>"
      ]
     },
     "execution_count": 18,
     "metadata": {},
     "output_type": "execute_result"
    },
    {
     "data": {
      "image/png": "[encoded data removed]",
      "text/plain": [
       "<Figure size 432x288 with 1 Axes>"
      ]
     },
     "metadata": {
      "needs_background": "light"
     },
     "output_type": "display_data"
    }
   ],
   "source": [
    "user_state = df_known.groupby(['return', 'user_state']).size().reset_index().pivot(columns='return', index='user_state', values=0)\n",
    "                                                                       \n",
    "#user_title.plot(kind='bar', stacked=True);\n",
    "user_state.div(user_state.sum(1).astype(float), axis=0).plot(kind=\"bar\", stacked=True)"
   ]
  },
  {
   "cell_type": "markdown",
   "id": "approximate-strand",
   "metadata": {},
   "source": [
    "The average return rates of the different states are very similar. That is what we expected. We will later drop this feature."
   ]
  },
  {
   "cell_type": "markdown",
   "id": "documentary-dependence",
   "metadata": {},
   "source": [
    "### Gaps in the data\n",
    "We already noticed that we have gaps in the data in two of our features. Let us take a closer look."
   ]
  },
  {
   "cell_type": "code",
   "execution_count": 19,
   "id": "functioning-telescope",
   "metadata": {
    "scrolled": false
   },
   "outputs": [
    {
     "data": {
      "text/plain": [
       "<AxesSubplot:ylabel='order_item_id'>"
      ]
     },
     "execution_count": 19,
     "metadata": {},
     "output_type": "execute_result"
    },
    {
     "data": {
      "image/png": "[encoded data removed]",
      "text/plain": [
       "<Figure size 432x288 with 1 Axes>"
      ]
     },
     "metadata": {
      "needs_background": "light"
     },
     "output_type": "display_data"
    }
   ],
   "source": [
    "sns.heatmap(df_known.isnull(), cbar=False)"
   ]
  },
  {
   "cell_type": "markdown",
   "id": "powerful-travel",
   "metadata": {},
   "source": [
    "There is no pattern visible in the gaps, therefore they are not related to each other. This what we would expect. <br/>\n",
    "An explanation for the missing values for `user_dob` could be that users are not required to fill in this information. <br/>\n",
    "The missing values for `delivery_date`, however, are more interesting."
   ]
  },
  {
   "cell_type": "code",
   "execution_count": 20,
   "id": "brilliant-sullivan",
   "metadata": {},
   "outputs": [
    {
     "data": {
      "text/html": [
       "<div>\n",
       "<style scoped>\n",
       "    .dataframe tbody tr th:only-of-type {\n",
       "        vertical-align: middle;\n",
       "    }\n",
       "\n",
       "    .dataframe tbody tr th {\n",
       "        vertical-align: top;\n",
       "    }\n",
       "\n",
       "    .dataframe thead th {\n",
       "        text-align: right;\n",
       "    }\n",
       "</style>\n",
       "<table border=\"1\" class=\"dataframe\">\n",
       "  <thead>\n",
       "    <tr style=\"text-align: right;\">\n",
       "      <th></th>\n",
       "      <th>order_date</th>\n",
       "      <th>delivery_date</th>\n",
       "      <th>item_id</th>\n",
       "      <th>item_size</th>\n",
       "      <th>item_color</th>\n",
       "      <th>brand_id</th>\n",
       "      <th>item_price</th>\n",
       "      <th>user_id</th>\n",
       "      <th>user_title</th>\n",
       "      <th>user_dob</th>\n",
       "      <th>user_state</th>\n",
       "      <th>user_reg_date</th>\n",
       "      <th>return</th>\n",
       "    </tr>\n",
       "    <tr>\n",
       "      <th>order_item_id</th>\n",
       "      <th></th>\n",
       "      <th></th>\n",
       "      <th></th>\n",
       "      <th></th>\n",
       "      <th></th>\n",
       "      <th></th>\n",
       "      <th></th>\n",
       "      <th></th>\n",
       "      <th></th>\n",
       "      <th></th>\n",
       "      <th></th>\n",
       "      <th></th>\n",
       "      <th></th>\n",
       "    </tr>\n",
       "  </thead>\n",
       "  <tbody>\n",
       "    <tr>\n",
       "      <th>2</th>\n",
       "      <td>2016-06-22</td>\n",
       "      <td>NaT</td>\n",
       "      <td>337</td>\n",
       "      <td>152</td>\n",
       "      <td>grey</td>\n",
       "      <td>30</td>\n",
       "      <td>19.950001</td>\n",
       "      <td>30822</td>\n",
       "      <td>Mrs</td>\n",
       "      <td>1969-04-17</td>\n",
       "      <td>Saxony</td>\n",
       "      <td>2016-06-23</td>\n",
       "      <td>0</td>\n",
       "    </tr>\n",
       "    <tr>\n",
       "      <th>56</th>\n",
       "      <td>2016-06-23</td>\n",
       "      <td>NaT</td>\n",
       "      <td>5</td>\n",
       "      <td>l</td>\n",
       "      <td>white</td>\n",
       "      <td>5</td>\n",
       "      <td>69.900002</td>\n",
       "      <td>30828</td>\n",
       "      <td>Mrs</td>\n",
       "      <td>1966-05-13</td>\n",
       "      <td>Lower Saxony</td>\n",
       "      <td>2016-01-21</td>\n",
       "      <td>0</td>\n",
       "    </tr>\n",
       "    <tr>\n",
       "      <th>64</th>\n",
       "      <td>2016-06-23</td>\n",
       "      <td>NaT</td>\n",
       "      <td>211</td>\n",
       "      <td>40</td>\n",
       "      <td>turquoise</td>\n",
       "      <td>1</td>\n",
       "      <td>69.900002</td>\n",
       "      <td>22948</td>\n",
       "      <td>Mrs</td>\n",
       "      <td>1957-03-11</td>\n",
       "      <td>Baden-Wuerttemberg</td>\n",
       "      <td>2015-02-17</td>\n",
       "      <td>0</td>\n",
       "    </tr>\n",
       "    <tr>\n",
       "      <th>65</th>\n",
       "      <td>2016-06-23</td>\n",
       "      <td>NaT</td>\n",
       "      <td>55</td>\n",
       "      <td>40</td>\n",
       "      <td>purple</td>\n",
       "      <td>1</td>\n",
       "      <td>89.900002</td>\n",
       "      <td>22948</td>\n",
       "      <td>Mrs</td>\n",
       "      <td>1957-03-11</td>\n",
       "      <td>Baden-Wuerttemberg</td>\n",
       "      <td>2015-02-17</td>\n",
       "      <td>0</td>\n",
       "    </tr>\n",
       "    <tr>\n",
       "      <th>66</th>\n",
       "      <td>2016-06-23</td>\n",
       "      <td>NaT</td>\n",
       "      <td>74</td>\n",
       "      <td>40</td>\n",
       "      <td>pink</td>\n",
       "      <td>24</td>\n",
       "      <td>69.900002</td>\n",
       "      <td>22948</td>\n",
       "      <td>Mrs</td>\n",
       "      <td>1957-03-11</td>\n",
       "      <td>Baden-Wuerttemberg</td>\n",
       "      <td>2015-02-17</td>\n",
       "      <td>0</td>\n",
       "    </tr>\n",
       "    <tr>\n",
       "      <th>...</th>\n",
       "      <td>...</td>\n",
       "      <td>...</td>\n",
       "      <td>...</td>\n",
       "      <td>...</td>\n",
       "      <td>...</td>\n",
       "      <td>...</td>\n",
       "      <td>...</td>\n",
       "      <td>...</td>\n",
       "      <td>...</td>\n",
       "      <td>...</td>\n",
       "      <td>...</td>\n",
       "      <td>...</td>\n",
       "      <td>...</td>\n",
       "    </tr>\n",
       "    <tr>\n",
       "      <th>99953</th>\n",
       "      <td>2016-09-11</td>\n",
       "      <td>NaT</td>\n",
       "      <td>1508</td>\n",
       "      <td>42</td>\n",
       "      <td>dark denim</td>\n",
       "      <td>113</td>\n",
       "      <td>59.900002</td>\n",
       "      <td>48234</td>\n",
       "      <td>Mrs</td>\n",
       "      <td>1962-10-02</td>\n",
       "      <td>Hesse</td>\n",
       "      <td>2016-09-12</td>\n",
       "      <td>0</td>\n",
       "    </tr>\n",
       "    <tr>\n",
       "      <th>99954</th>\n",
       "      <td>2016-09-11</td>\n",
       "      <td>NaT</td>\n",
       "      <td>1498</td>\n",
       "      <td>42</td>\n",
       "      <td>green</td>\n",
       "      <td>6</td>\n",
       "      <td>59.900002</td>\n",
       "      <td>48234</td>\n",
       "      <td>Mrs</td>\n",
       "      <td>1962-10-02</td>\n",
       "      <td>Hesse</td>\n",
       "      <td>2016-09-12</td>\n",
       "      <td>0</td>\n",
       "    </tr>\n",
       "    <tr>\n",
       "      <th>99955</th>\n",
       "      <td>2016-09-11</td>\n",
       "      <td>NaT</td>\n",
       "      <td>1412</td>\n",
       "      <td>40</td>\n",
       "      <td>blue</td>\n",
       "      <td>54</td>\n",
       "      <td>119.900002</td>\n",
       "      <td>48234</td>\n",
       "      <td>Mrs</td>\n",
       "      <td>1962-10-02</td>\n",
       "      <td>Hesse</td>\n",
       "      <td>2016-09-12</td>\n",
       "      <td>0</td>\n",
       "    </tr>\n",
       "    <tr>\n",
       "      <th>99962</th>\n",
       "      <td>2016-09-11</td>\n",
       "      <td>NaT</td>\n",
       "      <td>1550</td>\n",
       "      <td>xxl</td>\n",
       "      <td>berry</td>\n",
       "      <td>117</td>\n",
       "      <td>129.899994</td>\n",
       "      <td>48236</td>\n",
       "      <td>Mrs</td>\n",
       "      <td>1964-10-15</td>\n",
       "      <td>North Rhine-Westphalia</td>\n",
       "      <td>2016-09-12</td>\n",
       "      <td>0</td>\n",
       "    </tr>\n",
       "    <tr>\n",
       "      <th>99963</th>\n",
       "      <td>2016-09-11</td>\n",
       "      <td>NaT</td>\n",
       "      <td>1712</td>\n",
       "      <td>xxl</td>\n",
       "      <td>brown</td>\n",
       "      <td>42</td>\n",
       "      <td>99.900002</td>\n",
       "      <td>48236</td>\n",
       "      <td>Mrs</td>\n",
       "      <td>1964-10-15</td>\n",
       "      <td>North Rhine-Westphalia</td>\n",
       "      <td>2016-09-12</td>\n",
       "      <td>0</td>\n",
       "    </tr>\n",
       "  </tbody>\n",
       "</table>\n",
       "<p>9318 rows × 13 columns</p>\n",
       "</div>"
      ],
      "text/plain": [
       "              order_date delivery_date  item_id item_size  item_color  \\\n",
       "order_item_id                                                           \n",
       "2             2016-06-22           NaT      337       152        grey   \n",
       "56            2016-06-23           NaT        5         l       white   \n",
       "64            2016-06-23           NaT      211        40   turquoise   \n",
       "65            2016-06-23           NaT       55        40      purple   \n",
       "66            2016-06-23           NaT       74        40        pink   \n",
       "...                  ...           ...      ...       ...         ...   \n",
       "99953         2016-09-11           NaT     1508        42  dark denim   \n",
       "99954         2016-09-11           NaT     1498        42       green   \n",
       "99955         2016-09-11           NaT     1412        40        blue   \n",
       "99962         2016-09-11           NaT     1550       xxl       berry   \n",
       "99963         2016-09-11           NaT     1712       xxl       brown   \n",
       "\n",
       "               brand_id  item_price  user_id user_title   user_dob  \\\n",
       "order_item_id                                                        \n",
       "2                    30   19.950001    30822        Mrs 1969-04-17   \n",
       "56                    5   69.900002    30828        Mrs 1966-05-13   \n",
       "64                    1   69.900002    22948        Mrs 1957-03-11   \n",
       "65                    1   89.900002    22948        Mrs 1957-03-11   \n",
       "66                   24   69.900002    22948        Mrs 1957-03-11   \n",
       "...                 ...         ...      ...        ...        ...   \n",
       "99953               113   59.900002    48234        Mrs 1962-10-02   \n",
       "99954                 6   59.900002    48234        Mrs 1962-10-02   \n",
       "99955                54  119.900002    48234        Mrs 1962-10-02   \n",
       "99962               117  129.899994    48236        Mrs 1964-10-15   \n",
       "99963                42   99.900002    48236        Mrs 1964-10-15   \n",
       "\n",
       "                           user_state user_reg_date  return  \n",
       "order_item_id                                                \n",
       "2                              Saxony    2016-06-23       0  \n",
       "56                       Lower Saxony    2016-01-21       0  \n",
       "64                 Baden-Wuerttemberg    2015-02-17       0  \n",
       "65                 Baden-Wuerttemberg    2015-02-17       0  \n",
       "66                 Baden-Wuerttemberg    2015-02-17       0  \n",
       "...                               ...           ...     ...  \n",
       "99953                           Hesse    2016-09-12       0  \n",
       "99954                           Hesse    2016-09-12       0  \n",
       "99955                           Hesse    2016-09-12       0  \n",
       "99962          North Rhine-Westphalia    2016-09-12       0  \n",
       "99963          North Rhine-Westphalia    2016-09-12       0  \n",
       "\n",
       "[9318 rows x 13 columns]"
      ]
     },
     "execution_count": 20,
     "metadata": {},
     "output_type": "execute_result"
    }
   ],
   "source": [
    "df_known.loc[df_known['delivery_date'].isnull()]"
   ]
  },
  {
   "cell_type": "markdown",
   "id": "eight-plain",
   "metadata": {},
   "source": [
    "It looks like, the items without delivery date were not being returned."
   ]
  },
  {
   "cell_type": "code",
   "execution_count": 21,
   "id": "unknown-courage",
   "metadata": {},
   "outputs": [
    {
     "name": "stdout",
     "output_type": "stream",
     "text": [
      "There are 9318 items without delivery date\n",
      "Out of those items 0 were returned.\n"
     ]
    }
   ],
   "source": [
    "items_no_ddate = df_known.loc[df_known['delivery_date'].isnull()]\n",
    "print(\"There are {} items without delivery date\".format(len(items_no_ddate)))\n",
    "print(\"Out of those items {} were returned.\".format(items_no_ddate['return'].sum()))"
   ]
  },
  {
   "cell_type": "markdown",
   "id": "infectious-setting",
   "metadata": {},
   "source": [
    "That is very interesting. Items without delivery date were not being returned. We have two possible explanations for that.\n",
    "1) Delivery dates are determined, after the items have been delivered. The users canceled their order before the items were shipped, which would not count as a return.<br/>\n",
    "2) Delivery dates are the predicted dates of delivery. The items can not be delivered. What speaks against this, is that a user should not be allowed by the ordering system to order an item that can not be delivered.\n",
    "\n",
    "We will assume that the first explanation is right. The fact that we have a sound explanation for this rule and that the data supports our assumption so clearly, we will use it in our model.\n",
    "We could either create a boolean value `delivered` and hope that our model will learn to apply our rule by itself, or we could hardcode it. In our model, we will use the latter approach, because the association is so strict."
   ]
  },
  {
   "cell_type": "markdown",
   "id": "desperate-mirror",
   "metadata": {},
   "source": [
    "Let us now take a step back and think about the information `delivery_date` gives us. The value of this feature seems to be determined after the customer submits an order. If we recall the use case of our prediction model, we quickly realize that we will not have this information at the time our model makes new predictions. Therefore, we are not able to use `delivery_date` as a feature. Also a model that predicts our unknown data will not be applicable to the case it was designed for.\n",
    "\n",
    "To deal with this problem, will create a parameter in our model, which we call `user_delivery_dates`.\n",
    "- If it is set to `True`, we will the feature in our model. We will also use the hardcoded rule discussed above.\n",
    "- If it is set to `False`, the feature will be ignored. This ensures that our model works in the actual use case.\n",
    "\n",
    "We will for now use the feature, as it will likely improve the prediction of our unknown data. Furthermore, it is possible that we misunderstood the process, in which the feature values are determined. The best way to deal with this confusion would be to ask our retail company about it. <br/>"
   ]
  },
  {
   "cell_type": "markdown",
   "id": "armed-starter",
   "metadata": {},
   "source": [
    "For now, we will not fill the gaps of our data. The reason is that we will later drop both of the affected feature values. Before, we will construct features that use them and fill the gaps in these features."
   ]
  },
  {
   "cell_type": "markdown",
   "id": "rubber-status",
   "metadata": {},
   "source": [
    "### Further exploration"
   ]
  },
  {
   "cell_type": "code",
   "execution_count": 22,
   "id": "unlimited-serbia",
   "metadata": {
    "scrolled": true
   },
   "outputs": [
    {
     "data": {
      "text/plain": [
       "<AxesSubplot:xlabel='return'>"
      ]
     },
     "execution_count": 22,
     "metadata": {},
     "output_type": "execute_result"
    },
    {
     "data": {
      "image/png": "[encoded data removed]",
      "text/plain": [
       "<Figure size 432x288 with 1 Axes>"
      ]
     },
     "metadata": {
      "needs_background": "light"
     },
     "output_type": "display_data"
    }
   ],
   "source": [
    "df_known.groupby('return')['item_price'].mean().plot(kind='bar')"
   ]
  },
  {
   "cell_type": "markdown",
   "id": "offensive-conditions",
   "metadata": {},
   "source": [
    "We can see that the average price of returned items is higher than the one of not returned items."
   ]
  },
  {
   "cell_type": "code",
   "execution_count": 23,
   "id": "acoustic-colonial",
   "metadata": {
    "scrolled": true
   },
   "outputs": [
    {
     "data": {
      "text/html": [
       "<div>\n",
       "<style scoped>\n",
       "    .dataframe tbody tr th:only-of-type {\n",
       "        vertical-align: middle;\n",
       "    }\n",
       "\n",
       "    .dataframe tbody tr th {\n",
       "        vertical-align: top;\n",
       "    }\n",
       "\n",
       "    .dataframe thead th {\n",
       "        text-align: right;\n",
       "    }\n",
       "</style>\n",
       "<table border=\"1\" class=\"dataframe\">\n",
       "  <thead>\n",
       "    <tr style=\"text-align: right;\">\n",
       "      <th></th>\n",
       "      <th>order_date</th>\n",
       "      <th>delivery_date</th>\n",
       "      <th>item_id</th>\n",
       "      <th>item_size</th>\n",
       "      <th>item_color</th>\n",
       "      <th>brand_id</th>\n",
       "      <th>item_price</th>\n",
       "      <th>user_id</th>\n",
       "      <th>user_title</th>\n",
       "      <th>user_dob</th>\n",
       "      <th>user_state</th>\n",
       "      <th>user_reg_date</th>\n",
       "      <th>return</th>\n",
       "    </tr>\n",
       "    <tr>\n",
       "      <th>order_item_id</th>\n",
       "      <th></th>\n",
       "      <th></th>\n",
       "      <th></th>\n",
       "      <th></th>\n",
       "      <th></th>\n",
       "      <th></th>\n",
       "      <th></th>\n",
       "      <th></th>\n",
       "      <th></th>\n",
       "      <th></th>\n",
       "      <th></th>\n",
       "      <th></th>\n",
       "      <th></th>\n",
       "    </tr>\n",
       "  </thead>\n",
       "  <tbody>\n",
       "    <tr>\n",
       "      <th>203</th>\n",
       "      <td>2016-06-23</td>\n",
       "      <td>2016-06-26</td>\n",
       "      <td>157</td>\n",
       "      <td>unsized</td>\n",
       "      <td>purple</td>\n",
       "      <td>32</td>\n",
       "      <td>0.0</td>\n",
       "      <td>12373</td>\n",
       "      <td>Mrs</td>\n",
       "      <td>1958-06-07</td>\n",
       "      <td>Lower Saxony</td>\n",
       "      <td>2015-02-26</td>\n",
       "      <td>0</td>\n",
       "    </tr>\n",
       "    <tr>\n",
       "      <th>217</th>\n",
       "      <td>2016-06-23</td>\n",
       "      <td>2016-06-26</td>\n",
       "      <td>157</td>\n",
       "      <td>unsized</td>\n",
       "      <td>purple</td>\n",
       "      <td>32</td>\n",
       "      <td>0.0</td>\n",
       "      <td>30852</td>\n",
       "      <td>Mrs</td>\n",
       "      <td>1969-03-30</td>\n",
       "      <td>Saxony</td>\n",
       "      <td>2015-06-21</td>\n",
       "      <td>1</td>\n",
       "    </tr>\n",
       "    <tr>\n",
       "      <th>219</th>\n",
       "      <td>2016-06-23</td>\n",
       "      <td>2016-06-27</td>\n",
       "      <td>157</td>\n",
       "      <td>unsized</td>\n",
       "      <td>purple</td>\n",
       "      <td>32</td>\n",
       "      <td>0.0</td>\n",
       "      <td>18671</td>\n",
       "      <td>Mrs</td>\n",
       "      <td>1955-11-05</td>\n",
       "      <td>North Rhine-Westphalia</td>\n",
       "      <td>2015-02-17</td>\n",
       "      <td>0</td>\n",
       "    </tr>\n",
       "    <tr>\n",
       "      <th>352</th>\n",
       "      <td>2016-06-23</td>\n",
       "      <td>2016-06-27</td>\n",
       "      <td>157</td>\n",
       "      <td>unsized</td>\n",
       "      <td>purple</td>\n",
       "      <td>32</td>\n",
       "      <td>0.0</td>\n",
       "      <td>12388</td>\n",
       "      <td>Mrs</td>\n",
       "      <td>1962-01-16</td>\n",
       "      <td>North Rhine-Westphalia</td>\n",
       "      <td>2015-11-01</td>\n",
       "      <td>0</td>\n",
       "    </tr>\n",
       "    <tr>\n",
       "      <th>353</th>\n",
       "      <td>2016-06-23</td>\n",
       "      <td>2016-06-27</td>\n",
       "      <td>157</td>\n",
       "      <td>unsized</td>\n",
       "      <td>purple</td>\n",
       "      <td>32</td>\n",
       "      <td>0.0</td>\n",
       "      <td>12388</td>\n",
       "      <td>Mrs</td>\n",
       "      <td>1962-01-16</td>\n",
       "      <td>North Rhine-Westphalia</td>\n",
       "      <td>2015-11-01</td>\n",
       "      <td>0</td>\n",
       "    </tr>\n",
       "    <tr>\n",
       "      <th>...</th>\n",
       "      <td>...</td>\n",
       "      <td>...</td>\n",
       "      <td>...</td>\n",
       "      <td>...</td>\n",
       "      <td>...</td>\n",
       "      <td>...</td>\n",
       "      <td>...</td>\n",
       "      <td>...</td>\n",
       "      <td>...</td>\n",
       "      <td>...</td>\n",
       "      <td>...</td>\n",
       "      <td>...</td>\n",
       "      <td>...</td>\n",
       "    </tr>\n",
       "    <tr>\n",
       "      <th>96409</th>\n",
       "      <td>2016-09-07</td>\n",
       "      <td>2016-10-29</td>\n",
       "      <td>1472</td>\n",
       "      <td>unsized</td>\n",
       "      <td>brown</td>\n",
       "      <td>60</td>\n",
       "      <td>0.0</td>\n",
       "      <td>47558</td>\n",
       "      <td>Mrs</td>\n",
       "      <td>1971-10-25</td>\n",
       "      <td>Schleswig-Holstein</td>\n",
       "      <td>2015-07-09</td>\n",
       "      <td>0</td>\n",
       "    </tr>\n",
       "    <tr>\n",
       "      <th>97232</th>\n",
       "      <td>2016-09-08</td>\n",
       "      <td>2016-10-02</td>\n",
       "      <td>2025</td>\n",
       "      <td>unsized</td>\n",
       "      <td>grey</td>\n",
       "      <td>86</td>\n",
       "      <td>0.0</td>\n",
       "      <td>34189</td>\n",
       "      <td>Mrs</td>\n",
       "      <td>1963-09-08</td>\n",
       "      <td>Bavaria</td>\n",
       "      <td>2016-07-01</td>\n",
       "      <td>0</td>\n",
       "    </tr>\n",
       "    <tr>\n",
       "      <th>97434</th>\n",
       "      <td>2016-09-08</td>\n",
       "      <td>2016-10-29</td>\n",
       "      <td>1472</td>\n",
       "      <td>unsized</td>\n",
       "      <td>brown</td>\n",
       "      <td>60</td>\n",
       "      <td>0.0</td>\n",
       "      <td>47745</td>\n",
       "      <td>Mrs</td>\n",
       "      <td>1951-07-13</td>\n",
       "      <td>Baden-Wuerttemberg</td>\n",
       "      <td>2015-11-23</td>\n",
       "      <td>0</td>\n",
       "    </tr>\n",
       "    <tr>\n",
       "      <th>98942</th>\n",
       "      <td>2016-09-10</td>\n",
       "      <td>2016-10-29</td>\n",
       "      <td>1472</td>\n",
       "      <td>unsized</td>\n",
       "      <td>brown</td>\n",
       "      <td>60</td>\n",
       "      <td>0.0</td>\n",
       "      <td>7820</td>\n",
       "      <td>Mrs</td>\n",
       "      <td>1975-11-23</td>\n",
       "      <td>Hesse</td>\n",
       "      <td>2016-08-29</td>\n",
       "      <td>0</td>\n",
       "    </tr>\n",
       "    <tr>\n",
       "      <th>99657</th>\n",
       "      <td>2016-09-11</td>\n",
       "      <td>2016-09-12</td>\n",
       "      <td>2025</td>\n",
       "      <td>unsized</td>\n",
       "      <td>grey</td>\n",
       "      <td>86</td>\n",
       "      <td>0.0</td>\n",
       "      <td>1764</td>\n",
       "      <td>Mrs</td>\n",
       "      <td>1957-10-05</td>\n",
       "      <td>Hesse</td>\n",
       "      <td>2015-09-01</td>\n",
       "      <td>0</td>\n",
       "    </tr>\n",
       "  </tbody>\n",
       "</table>\n",
       "<p>396 rows × 13 columns</p>\n",
       "</div>"
      ],
      "text/plain": [
       "              order_date delivery_date  item_id item_size item_color  \\\n",
       "order_item_id                                                          \n",
       "203           2016-06-23    2016-06-26      157   unsized     purple   \n",
       "217           2016-06-23    2016-06-26      157   unsized     purple   \n",
       "219           2016-06-23    2016-06-27      157   unsized     purple   \n",
       "352           2016-06-23    2016-06-27      157   unsized     purple   \n",
       "353           2016-06-23    2016-06-27      157   unsized     purple   \n",
       "...                  ...           ...      ...       ...        ...   \n",
       "96409         2016-09-07    2016-10-29     1472   unsized      brown   \n",
       "97232         2016-09-08    2016-10-02     2025   unsized       grey   \n",
       "97434         2016-09-08    2016-10-29     1472   unsized      brown   \n",
       "98942         2016-09-10    2016-10-29     1472   unsized      brown   \n",
       "99657         2016-09-11    2016-09-12     2025   unsized       grey   \n",
       "\n",
       "               brand_id  item_price  user_id user_title   user_dob  \\\n",
       "order_item_id                                                        \n",
       "203                  32         0.0    12373        Mrs 1958-06-07   \n",
       "217                  32         0.0    30852        Mrs 1969-03-30   \n",
       "219                  32         0.0    18671        Mrs 1955-11-05   \n",
       "352                  32         0.0    12388        Mrs 1962-01-16   \n",
       "353                  32         0.0    12388        Mrs 1962-01-16   \n",
       "...                 ...         ...      ...        ...        ...   \n",
       "96409                60         0.0    47558        Mrs 1971-10-25   \n",
       "97232                86         0.0    34189        Mrs 1963-09-08   \n",
       "97434                60         0.0    47745        Mrs 1951-07-13   \n",
       "98942                60         0.0     7820        Mrs 1975-11-23   \n",
       "99657                86         0.0     1764        Mrs 1957-10-05   \n",
       "\n",
       "                           user_state user_reg_date  return  \n",
       "order_item_id                                                \n",
       "203                      Lower Saxony    2015-02-26       0  \n",
       "217                            Saxony    2015-06-21       1  \n",
       "219            North Rhine-Westphalia    2015-02-17       0  \n",
       "352            North Rhine-Westphalia    2015-11-01       0  \n",
       "353            North Rhine-Westphalia    2015-11-01       0  \n",
       "...                               ...           ...     ...  \n",
       "96409              Schleswig-Holstein    2015-07-09       0  \n",
       "97232                         Bavaria    2016-07-01       0  \n",
       "97434              Baden-Wuerttemberg    2015-11-23       0  \n",
       "98942                           Hesse    2016-08-29       0  \n",
       "99657                           Hesse    2015-09-01       0  \n",
       "\n",
       "[396 rows x 13 columns]"
      ]
     },
     "execution_count": 23,
     "metadata": {},
     "output_type": "execute_result"
    }
   ],
   "source": [
    "df_known.loc[df_known['item_price']==0]"
   ]
  },
  {
   "cell_type": "markdown",
   "id": "enclosed-contrary",
   "metadata": {},
   "source": [
    "There are items that have a price of 0."
   ]
  },
  {
   "cell_type": "code",
   "execution_count": 24,
   "id": "equivalent-sphere",
   "metadata": {
    "scrolled": true
   },
   "outputs": [
    {
     "data": {
      "text/plain": [
       "unsized    395\n",
       "40           1\n",
       "1            0\n",
       "42+          0\n",
       "48           0\n",
       "          ... \n",
       "29           0\n",
       "28           0\n",
       "27           0\n",
       "26           0\n",
       "xxxl         0\n",
       "Name: item_size, Length: 102, dtype: int64"
      ]
     },
     "execution_count": 24,
     "metadata": {},
     "output_type": "execute_result"
    }
   ],
   "source": [
    "df_known.loc[df_known['item_price']==0, 'item_size'].value_counts()"
   ]
  },
  {
   "cell_type": "markdown",
   "id": "chinese-level",
   "metadata": {},
   "source": [
    "Excluding one data point, all those items have the size label `unsized`."
   ]
  },
  {
   "cell_type": "code",
   "execution_count": 25,
   "id": "promotional-mumbai",
   "metadata": {},
   "outputs": [
    {
     "data": {
      "text/plain": [
       "0.11868686868686869"
      ]
     },
     "execution_count": 25,
     "metadata": {},
     "output_type": "execute_result"
    }
   ],
   "source": [
    "df_known.loc[df_known['item_price']==0, 'return'].mean()"
   ]
  },
  {
   "cell_type": "markdown",
   "id": "inner-tamil",
   "metadata": {},
   "source": [
    "Some users returned those free items. That would be a very uncommon behavior, if the items were actually free. We are not sure what to make of this, but will create a boolean feature that is tells us, if the item is labeled as free."
   ]
  },
  {
   "cell_type": "markdown",
   "id": "floppy-developer",
   "metadata": {},
   "source": [
    "### Feature Engineering\n",
    "First, we will create the following features. <br/>\n",
    "- `user_age`: The user's age at the order date. We just count the days between `user_dob` and `order_date` and divide them by 365. This is a good enough approximation.\n",
    "- `item_is_free`: A boolean feature that is `True`, if the item price is zero, and `False` otherwise.\n",
    "\n",
    "If we have set `user_delivery_dates`, we will also create the following two features:\n",
    "- `delivery_span`: The days between order and delivery.\n",
    "- `order_delivered`: A boolean feature that is true, if we have a value for `delivery_date`.\n"
   ]
  },
  {
   "cell_type": "code",
   "execution_count": 26,
   "id": "daily-strengthening",
   "metadata": {},
   "outputs": [],
   "source": [
    "df_known = transformer.create_features_independent(df_known)"
   ]
  },
  {
   "cell_type": "markdown",
   "id": "social-nurse",
   "metadata": {},
   "source": [
    "We will also create several features that are dependent on other data points and labels. <br/>\n",
    "When doing so, one has to be very careful in order to prevent data leakage. When evaluating our model, the training data must not contain any information that is determined by the test data. Also, the features of our test data must not be computed using test data labels. <br/>\n",
    "We will keep that in mind, and construct this features differently for training and test data. Our transformer inherits from the `scikit-learn` class `TransformerMixin`. This enables us to make this distinction in a very elegant way. <br/>\n",
    "We will create the following dependent features:\n",
    "- `order_num_items`: The number of items in the order.\n",
    "- `item_multiple_orders`: A boolean feature that is `True`, if a user ordered multiple items with the same ID at the same day.\n",
    "- `user_orders`:  The number of items a user has ordered overall.\n",
    "- `item_popularity`: The number the item with the specific ID was ordered overall.\n",
    "- `item_color_popularity`: The number of sales of items with the specific color.\n",
    "\n",
    "The following features will be computed using labels. Therefore, we will compute them differently for training and test data:\n",
    "- `user_avg_return`: The average return rate of the user.\n",
    "    - training data: We will compute the average return of the specific user.\n",
    "    - test data: If the specific user is also contained in the training data, we will use the return rate computed in the training data. Otherwise, we will assign the data point the average of all user return rates of the training data.\n",
    "- `item_avg_return`: The average return rate of the item.\n",
    "    - training data: We will compute the average return of the specific item.\n",
    "    - test data: If the specific item is also contained in the training data, we will use the return rate computed in the training data. Otherwise, we will assign the data point the average of all item return rates of the training data."
   ]
  },
  {
   "cell_type": "markdown",
   "id": "accessible-aviation",
   "metadata": {},
   "source": [
    "For now, we will regard the whole dataset as training data, as we want to first see our new features."
   ]
  },
  {
   "cell_type": "code",
   "execution_count": 27,
   "id": "white-somewhere",
   "metadata": {},
   "outputs": [],
   "source": [
    "X = df_known.drop('return', axis=1).copy()\n",
    "y = df_known['return'].copy()\n",
    "\n",
    "transformer.fit(X,y)\n",
    "\n",
    "X = transformer.create_features_dependent(X)\n",
    "df_known = pd.concat([X,y], axis=1)\n"
   ]
  },
  {
   "cell_type": "markdown",
   "id": "decreased-sierra",
   "metadata": {},
   "source": [
    "### Dropping unnecessary features\n",
    "We will drop the following features:"
   ]
  },
  {
   "cell_type": "code",
   "execution_count": 28,
   "id": "sealed-anthony",
   "metadata": {},
   "outputs": [],
   "source": [
    "df_known = transformer.drop_columns(df_known)"
   ]
  },
  {
   "cell_type": "markdown",
   "id": "affected-somerset",
   "metadata": {},
   "source": [
    "Our data now looks like this:"
   ]
  },
  {
   "cell_type": "code",
   "execution_count": 29,
   "id": "defensive-compensation",
   "metadata": {
    "scrolled": true
   },
   "outputs": [
    {
     "data": {
      "text/html": [
       "<div>\n",
       "<style scoped>\n",
       "    .dataframe tbody tr th:only-of-type {\n",
       "        vertical-align: middle;\n",
       "    }\n",
       "\n",
       "    .dataframe tbody tr th {\n",
       "        vertical-align: top;\n",
       "    }\n",
       "\n",
       "    .dataframe thead th {\n",
       "        text-align: right;\n",
       "    }\n",
       "</style>\n",
       "<table border=\"1\" class=\"dataframe\">\n",
       "  <thead>\n",
       "    <tr style=\"text-align: right;\">\n",
       "      <th></th>\n",
       "      <th>item_price</th>\n",
       "      <th>user_age</th>\n",
       "      <th>item_is_free</th>\n",
       "      <th>delivery_span</th>\n",
       "      <th>order_delivered</th>\n",
       "      <th>order_num_items</th>\n",
       "      <th>item_multiple_orders</th>\n",
       "      <th>user_orders</th>\n",
       "      <th>item_popularity</th>\n",
       "      <th>item_color_popularity</th>\n",
       "      <th>user_avg_return</th>\n",
       "      <th>item_avg_return</th>\n",
       "      <th>return</th>\n",
       "    </tr>\n",
       "    <tr>\n",
       "      <th>order_item_id</th>\n",
       "      <th></th>\n",
       "      <th></th>\n",
       "      <th></th>\n",
       "      <th></th>\n",
       "      <th></th>\n",
       "      <th></th>\n",
       "      <th></th>\n",
       "      <th></th>\n",
       "      <th></th>\n",
       "      <th></th>\n",
       "      <th></th>\n",
       "      <th></th>\n",
       "      <th></th>\n",
       "    </tr>\n",
       "  </thead>\n",
       "  <tbody>\n",
       "    <tr>\n",
       "      <th>1</th>\n",
       "      <td>49.900002</td>\n",
       "      <td>47.213699</td>\n",
       "      <td>False</td>\n",
       "      <td>5.0</td>\n",
       "      <td>True</td>\n",
       "      <td>2</td>\n",
       "      <td>False</td>\n",
       "      <td>3.0</td>\n",
       "      <td>22</td>\n",
       "      <td>314</td>\n",
       "      <td>0.000000</td>\n",
       "      <td>0.181818</td>\n",
       "      <td>0</td>\n",
       "    </tr>\n",
       "    <tr>\n",
       "      <th>2</th>\n",
       "      <td>19.950001</td>\n",
       "      <td>47.213699</td>\n",
       "      <td>False</td>\n",
       "      <td>NaN</td>\n",
       "      <td>False</td>\n",
       "      <td>2</td>\n",
       "      <td>False</td>\n",
       "      <td>3.0</td>\n",
       "      <td>52</td>\n",
       "      <td>8708</td>\n",
       "      <td>0.000000</td>\n",
       "      <td>0.096154</td>\n",
       "      <td>0</td>\n",
       "    </tr>\n",
       "    <tr>\n",
       "      <th>3</th>\n",
       "      <td>79.900002</td>\n",
       "      <td>46.200000</td>\n",
       "      <td>False</td>\n",
       "      <td>5.0</td>\n",
       "      <td>True</td>\n",
       "      <td>9</td>\n",
       "      <td>False</td>\n",
       "      <td>17.0</td>\n",
       "      <td>81</td>\n",
       "      <td>8708</td>\n",
       "      <td>0.588235</td>\n",
       "      <td>0.506173</td>\n",
       "      <td>1</td>\n",
       "    </tr>\n",
       "    <tr>\n",
       "      <th>4</th>\n",
       "      <td>99.900002</td>\n",
       "      <td>46.200000</td>\n",
       "      <td>False</td>\n",
       "      <td>5.0</td>\n",
       "      <td>True</td>\n",
       "      <td>9</td>\n",
       "      <td>False</td>\n",
       "      <td>17.0</td>\n",
       "      <td>228</td>\n",
       "      <td>8708</td>\n",
       "      <td>0.588235</td>\n",
       "      <td>0.535088</td>\n",
       "      <td>0</td>\n",
       "    </tr>\n",
       "    <tr>\n",
       "      <th>5</th>\n",
       "      <td>14.900000</td>\n",
       "      <td>46.200000</td>\n",
       "      <td>False</td>\n",
       "      <td>5.0</td>\n",
       "      <td>True</td>\n",
       "      <td>9</td>\n",
       "      <td>False</td>\n",
       "      <td>17.0</td>\n",
       "      <td>137</td>\n",
       "      <td>8708</td>\n",
       "      <td>0.588235</td>\n",
       "      <td>0.386861</td>\n",
       "      <td>1</td>\n",
       "    </tr>\n",
       "    <tr>\n",
       "      <th>...</th>\n",
       "      <td>...</td>\n",
       "      <td>...</td>\n",
       "      <td>...</td>\n",
       "      <td>...</td>\n",
       "      <td>...</td>\n",
       "      <td>...</td>\n",
       "      <td>...</td>\n",
       "      <td>...</td>\n",
       "      <td>...</td>\n",
       "      <td>...</td>\n",
       "      <td>...</td>\n",
       "      <td>...</td>\n",
       "      <td>...</td>\n",
       "    </tr>\n",
       "    <tr>\n",
       "      <th>99996</th>\n",
       "      <td>29.900000</td>\n",
       "      <td>57.517808</td>\n",
       "      <td>False</td>\n",
       "      <td>1.0</td>\n",
       "      <td>True</td>\n",
       "      <td>2</td>\n",
       "      <td>True</td>\n",
       "      <td>4.0</td>\n",
       "      <td>221</td>\n",
       "      <td>10625</td>\n",
       "      <td>0.500000</td>\n",
       "      <td>0.502262</td>\n",
       "      <td>0</td>\n",
       "    </tr>\n",
       "    <tr>\n",
       "      <th>99997</th>\n",
       "      <td>29.900000</td>\n",
       "      <td>57.517808</td>\n",
       "      <td>False</td>\n",
       "      <td>1.0</td>\n",
       "      <td>True</td>\n",
       "      <td>2</td>\n",
       "      <td>True</td>\n",
       "      <td>4.0</td>\n",
       "      <td>221</td>\n",
       "      <td>8734</td>\n",
       "      <td>0.500000</td>\n",
       "      <td>0.502262</td>\n",
       "      <td>0</td>\n",
       "    </tr>\n",
       "    <tr>\n",
       "      <th>99998</th>\n",
       "      <td>26.900000</td>\n",
       "      <td>31.553425</td>\n",
       "      <td>False</td>\n",
       "      <td>-7925.0</td>\n",
       "      <td>True</td>\n",
       "      <td>2</td>\n",
       "      <td>True</td>\n",
       "      <td>3.0</td>\n",
       "      <td>98</td>\n",
       "      <td>18640</td>\n",
       "      <td>0.000000</td>\n",
       "      <td>0.448980</td>\n",
       "      <td>0</td>\n",
       "    </tr>\n",
       "    <tr>\n",
       "      <th>99999</th>\n",
       "      <td>26.900000</td>\n",
       "      <td>31.553425</td>\n",
       "      <td>False</td>\n",
       "      <td>-7925.0</td>\n",
       "      <td>True</td>\n",
       "      <td>2</td>\n",
       "      <td>True</td>\n",
       "      <td>3.0</td>\n",
       "      <td>98</td>\n",
       "      <td>18640</td>\n",
       "      <td>0.000000</td>\n",
       "      <td>0.448980</td>\n",
       "      <td>0</td>\n",
       "    </tr>\n",
       "    <tr>\n",
       "      <th>100000</th>\n",
       "      <td>27.900000</td>\n",
       "      <td>42.931507</td>\n",
       "      <td>False</td>\n",
       "      <td>27.0</td>\n",
       "      <td>True</td>\n",
       "      <td>1</td>\n",
       "      <td>False</td>\n",
       "      <td>7.0</td>\n",
       "      <td>28</td>\n",
       "      <td>119</td>\n",
       "      <td>0.714286</td>\n",
       "      <td>0.321429</td>\n",
       "      <td>0</td>\n",
       "    </tr>\n",
       "  </tbody>\n",
       "</table>\n",
       "<p>100000 rows × 13 columns</p>\n",
       "</div>"
      ],
      "text/plain": [
       "               item_price   user_age  item_is_free  delivery_span  \\\n",
       "order_item_id                                                       \n",
       "1               49.900002  47.213699         False            5.0   \n",
       "2               19.950001  47.213699         False            NaN   \n",
       "3               79.900002  46.200000         False            5.0   \n",
       "4               99.900002  46.200000         False            5.0   \n",
       "5               14.900000  46.200000         False            5.0   \n",
       "...                   ...        ...           ...            ...   \n",
       "99996           29.900000  57.517808         False            1.0   \n",
       "99997           29.900000  57.517808         False            1.0   \n",
       "99998           26.900000  31.553425         False        -7925.0   \n",
       "99999           26.900000  31.553425         False        -7925.0   \n",
       "100000          27.900000  42.931507         False           27.0   \n",
       "\n",
       "               order_delivered  order_num_items  item_multiple_orders  \\\n",
       "order_item_id                                                           \n",
       "1                         True                2                 False   \n",
       "2                        False                2                 False   \n",
       "3                         True                9                 False   \n",
       "4                         True                9                 False   \n",
       "5                         True                9                 False   \n",
       "...                        ...              ...                   ...   \n",
       "99996                     True                2                  True   \n",
       "99997                     True                2                  True   \n",
       "99998                     True                2                  True   \n",
       "99999                     True                2                  True   \n",
       "100000                    True                1                 False   \n",
       "\n",
       "               user_orders  item_popularity  item_color_popularity  \\\n",
       "order_item_id                                                        \n",
       "1                      3.0               22                    314   \n",
       "2                      3.0               52                   8708   \n",
       "3                     17.0               81                   8708   \n",
       "4                     17.0              228                   8708   \n",
       "5                     17.0              137                   8708   \n",
       "...                    ...              ...                    ...   \n",
       "99996                  4.0              221                  10625   \n",
       "99997                  4.0              221                   8734   \n",
       "99998                  3.0               98                  18640   \n",
       "99999                  3.0               98                  18640   \n",
       "100000                 7.0               28                    119   \n",
       "\n",
       "               user_avg_return  item_avg_return  return  \n",
       "order_item_id                                            \n",
       "1                     0.000000         0.181818       0  \n",
       "2                     0.000000         0.096154       0  \n",
       "3                     0.588235         0.506173       1  \n",
       "4                     0.588235         0.535088       0  \n",
       "5                     0.588235         0.386861       1  \n",
       "...                        ...              ...     ...  \n",
       "99996                 0.500000         0.502262       0  \n",
       "99997                 0.500000         0.502262       0  \n",
       "99998                 0.000000         0.448980       0  \n",
       "99999                 0.000000         0.448980       0  \n",
       "100000                0.714286         0.321429       0  \n",
       "\n",
       "[100000 rows x 13 columns]"
      ]
     },
     "execution_count": 29,
     "metadata": {},
     "output_type": "execute_result"
    }
   ],
   "source": [
    "df_known"
   ]
  },
  {
   "cell_type": "code",
   "execution_count": 30,
   "id": "voluntary-holiday",
   "metadata": {},
   "outputs": [
    {
     "name": "stdout",
     "output_type": "stream",
     "text": [
      "<class 'pandas.core.frame.DataFrame'>\n",
      "Int64Index: 100000 entries, 1 to 100000\n",
      "Data columns (total 13 columns):\n",
      " #   Column                 Non-Null Count   Dtype  \n",
      "---  ------                 --------------   -----  \n",
      " 0   item_price             100000 non-null  float32\n",
      " 1   user_age               91275 non-null   float64\n",
      " 2   item_is_free           100000 non-null  bool   \n",
      " 3   delivery_span          90682 non-null   float32\n",
      " 4   order_delivered        100000 non-null  bool   \n",
      " 5   order_num_items        100000 non-null  int32  \n",
      " 6   item_multiple_orders   100000 non-null  bool   \n",
      " 7   user_orders            100000 non-null  float32\n",
      " 8   item_popularity        100000 non-null  int32  \n",
      " 9   item_color_popularity  100000 non-null  int32  \n",
      " 10  user_avg_return        100000 non-null  float32\n",
      " 11  item_avg_return        100000 non-null  float32\n",
      " 12  return                 100000 non-null  int64  \n",
      "dtypes: bool(3), float32(5), float64(1), int32(3), int64(1)\n",
      "memory usage: 5.6 MB\n"
     ]
    }
   ],
   "source": [
    "df_known.info()"
   ]
  },
  {
   "cell_type": "markdown",
   "id": "alive-timeline",
   "metadata": {},
   "source": [
    "Because we used features with missing values to compute `user_age` and `delivery_span`, there are still gaps in the data. We will handle that in the following sections."
   ]
  },
  {
   "cell_type": "markdown",
   "id": "anticipated-crawford",
   "metadata": {},
   "source": [
    "### Visualization of new features"
   ]
  },
  {
   "cell_type": "code",
   "execution_count": 31,
   "id": "central-pattern",
   "metadata": {
    "scrolled": false
   },
   "outputs": [
    {
     "data": {
      "image/png": "[encoded data removed]",
      "text/plain": [
       "<Figure size 1152x1152 with 12 Axes>"
      ]
     },
     "metadata": {
      "needs_background": "light"
     },
     "output_type": "display_data"
    }
   ],
   "source": [
    "df_known.hist(figsize=(16, 16), bins=100, xlabelsize=8, ylabelsize=8); # produces one histogram per feature"
   ]
  },
  {
   "cell_type": "markdown",
   "id": "desirable-stamp",
   "metadata": {},
   "source": [
    "We can see that there some outliers in some of the features. Also some of the distributions are skewed right."
   ]
  },
  {
   "cell_type": "markdown",
   "id": "valued-belief",
   "metadata": {},
   "source": [
    "### Handling of gaps and outliers\n",
    "We will fill the gaps in `user_age` and `delivery_span` with the median of their values in the training set.\n",
    "We also do not believe that our customers are less than 16 or more than a 100 years old. Therefore we will also assign those users the user age median of the training data. We do the same with the negative values for `delivery_span`.<br/>\n",
    "We will handle the other outliers with upper bounds. We will assign it to every value that exceeds it. The upper bounds are as follows:\n",
    "- `item_price`:      400\n",
    "- `delivery_span`:   50\n",
    "- `order_num_items`: 40\n",
    "- `user_orders`:     100"
   ]
  },
  {
   "cell_type": "code",
   "execution_count": 32,
   "id": "framed-spotlight",
   "metadata": {},
   "outputs": [],
   "source": [
    "df_known = transformer.clean(df_known)"
   ]
  },
  {
   "cell_type": "markdown",
   "id": "phantom-garbage",
   "metadata": {},
   "source": [
    "### Handling skewness\n",
    "We will try to handle the skewness of the features `item_price`, `order_num_items`, `user_orders`, `item_popularity` and `item_color_popularity` by applying the function `log(x+1)` to them. The addition of 1 inside the log function is important, as some of the features have value 0."
   ]
  },
  {
   "cell_type": "code",
   "execution_count": 33,
   "id": "classified-costume",
   "metadata": {},
   "outputs": [],
   "source": [
    "df_known = transformer.unskew(df_known)"
   ]
  },
  {
   "cell_type": "markdown",
   "id": "powered-lounge",
   "metadata": {},
   "source": [
    "### Correlations of features and target\n",
    "Because we created dependent features, we want to train our transformer and then inspect the correlations on our test data. In order to do this, we split our data into a training and a test set."
   ]
  },
  {
   "cell_type": "code",
   "execution_count": 34,
   "id": "african-vocabulary",
   "metadata": {},
   "outputs": [
    {
     "data": {
      "image/png": "[encoded data removed]",
      "text/plain": [
       "<Figure size 1080x864 with 2 Axes>"
      ]
     },
     "metadata": {
      "needs_background": "light"
     },
     "output_type": "display_data"
    }
   ],
   "source": [
    "df_known = pd.read_csv(\"BADS_WS2021_known.csv\", index_col='order_item_id')\n",
    "X = df_known.drop('return', axis=1).copy()\n",
    "y = df_known['return'].copy()\n",
    "\n",
    "X_train, X_test, y_train, y_test = train_test_split(X, y, test_size=0.2, random_state=seed)\n",
    "\n",
    "X_train = transformer.fit_transform(X_train, y_train)\n",
    "\n",
    "X_test = transformer.transform(X_test)\n",
    "\n",
    "X_all = pd.concat([X_test,y_test], axis=1)\n",
    "\n",
    "\n",
    "corr = X_all.corr()\n",
    "\n",
    "fig, ax = plt.subplots(figsize=(15, 12))\n",
    "\n",
    "\n",
    "sns.heatmap(corr,\n",
    "            xticklabels=corr.columns.values,\n",
    "            yticklabels=corr.columns.values,\n",
    "            annot=True,\n",
    "            cmap=\"PiYG\");"
   ]
  },
  {
   "cell_type": "markdown",
   "id": "freelance-wrong",
   "metadata": {},
   "source": [
    "There is some autocorrelation in our features, which is generally bad. However, the correlations are not too extreme. <br/>\n",
    "What is very good to see, on the other hand, is that some of our features have a fairly high correlation to our target value. They promise to be great predictors."
   ]
  },
  {
   "cell_type": "markdown",
   "id": "young-milan",
   "metadata": {},
   "source": [
    "## Modelling\n",
    "Now that we have prepared our data, we want to find a good prediction model.\n",
    "We will find a model with optimal AUC and then search for the threshold is expected to minimize cost.\n",
    "Before testing different estimators, we will always apply our transformations to prepare the data and then apply a `StandardScaler` to scale the data."
   ]
  },
  {
   "cell_type": "markdown",
   "id": "distant-status",
   "metadata": {},
   "source": [
    "We will try to use Logistic Regression with Elastic net regularization. We will perform a gridsearch to find the best parameters for the regularization parameter `C` and the ratio of Lasso-Regularization `l1_ratio`."
   ]
  },
  {
   "cell_type": "code",
   "execution_count": 36,
   "id": "dental-accent",
   "metadata": {
    "scrolled": false
   },
   "outputs": [
    {
     "name": "stdout",
     "output_type": "stream",
     "text": [
      "The best parameters are:\n",
      "{'C': 0.8, 'l1_ratio': 0.3}\n",
      "The best AUC score is 0.7650149102565651\n",
      "The standard deviation of all AUC values is 0.0009461665625776799\n"
     ]
    }
   ],
   "source": [
    "transformer = DataTransformer()\n",
    "scaler = StandardScaler()\n",
    "\n",
    "logit_pipe = Pipeline([\n",
    "            ('transformer', transformer), # ('step_name', transfomer) always follow this format for transformers in the pipeline\n",
    "            ('scaler', StandardScaler()),\n",
    "            ('logistic', LogisticRegression(penalty='elasticnet', solver='saga', random_state=seed, fit_intercept=True)) # ('step_name', fun()) add parantheses for other functions\n",
    "            ])\n",
    "\n",
    "C_values = [0.6, 0.8, 1, 1.2, 1.4]\n",
    "l1_ratios = [0.3, 0.5, 0.7]\n",
    "num_splits = 3\n",
    "\n",
    "\n",
    "y = df_known['return'].copy()\n",
    "X = df_known.drop('return', axis=1).copy()\n",
    "\n",
    "\n",
    "best_auc = 0\n",
    "\n",
    "auc_list = []\n",
    "\n",
    "\n",
    "for split in range(num_splits):\n",
    "\n",
    "    # Split data into training and test\n",
    "    X_train, X_test, y_train, y_test = train_test_split(X, y, test_size=0.2, random_state=seed+split)\n",
    "    \n",
    "    X_train = transformer.fit_transform(X_train, y_train)\n",
    "    X_train = scaler.fit_transform(X_train)\n",
    "    \n",
    "    X_test = transformer.transform(X_test)\n",
    "    X_test = scaler.transform(X_test)\n",
    "    \n",
    "    for C in C_values:\n",
    "        for l1_ratio in l1_ratios:\n",
    "            logit = LogisticRegression(penalty='elasticnet', solver='saga',\n",
    "                                            C=C, l1_ratio=l1_ratio,\n",
    "                                            random_state=seed, max_iter=200) # ('step_name', fun()) add parantheses for other functions\n",
    "            logit.fit(X_train, y_train)\n",
    "            y_probs = logit.predict_proba(X_test)[:,1]\n",
    "            auc = roc_auc_score(y_test, y_probs)\n",
    "            auc_list.append(auc)\n",
    "            if auc > best_auc:\n",
    "                best_auc = auc\n",
    "                best_params_logit = {'C': C, 'l1_ratio': l1_ratio}\n",
    "                \n",
    "print(\"The best parameters are:\")\n",
    "print(best_params_logit)\n",
    "print(\"The best AUC score is {}\".format(best_auc))\n",
    "print(\"The standard deviation of all AUC values is {}\".format(np.std(auc_list)))"
   ]
  },
  {
   "cell_type": "markdown",
   "id": "personalized-oliver",
   "metadata": {},
   "source": [
    "Now, we will try to use a Random Forest Classifier and search over the parameters `n_estimators`, `criterion` and `max_depths`."
   ]
  },
  {
   "cell_type": "code",
   "execution_count": 37,
   "id": "forty-glory",
   "metadata": {},
   "outputs": [
    {
     "name": "stdout",
     "output_type": "stream",
     "text": [
      "The best parameters are:\n",
      "{'n_estimators': 30, 'criterion': 'gini', 'max_depth': 2}\n",
      "The best AUC score is 0.7612823395409543\n",
      "The standard deviation of all AUC values is 0.01093890516730509\n"
     ]
    }
   ],
   "source": [
    "transformer = DataTransformer()\n",
    "scaler = StandardScaler()\n",
    "\n",
    "n_estimators_list = [10, 30, 50, 100]\n",
    "criteria = ['gini', 'entropy']\n",
    "max_depths = [1,2,5,10]\n",
    "\n",
    "num_splits = 3\n",
    "\n",
    "best_auc = 0\n",
    "\n",
    "auc_list = []\n",
    "\n",
    "y = df_known['return'].copy()\n",
    "X = df_known.drop('return', axis=1).copy()\n",
    "\n",
    "for split in range(num_splits):\n",
    "\n",
    "    # Split data into training and test\n",
    "    X_train, X_test, y_train, y_test = train_test_split(X, y, test_size=0.2, random_state=seed+split)\n",
    "    \n",
    "    X_train = transformer.fit_transform(X_train, y_train)\n",
    "    X_train = scaler.fit_transform(X_train)\n",
    "    \n",
    "    X_test = transformer.transform(X_test)\n",
    "    X_test = scaler.transform(X_test)\n",
    "    \n",
    "    for n_estimators in n_estimators_list:\n",
    "        for criterion in criteria:\n",
    "            for max_depth in max_depths:\n",
    "                rfc = RandomForestClassifier(n_estimators=n_estimators, criterion=criterion, max_depth=max_depth,\n",
    "                                             random_state=seed)\n",
    "                rfc.fit(X_train, y_train)\n",
    "                y_probs = rfc.predict_proba(X_test)[:,1]\n",
    "                auc = roc_auc_score(y_test, y_probs)\n",
    "                auc_list.append(auc)\n",
    "                if auc > best_auc:\n",
    "                    best_auc = auc\n",
    "                    best_params_rfc = {'n_estimators': n_estimators, 'criterion': criterion, 'max_depth': max_depth}\n",
    "\n",
    "print(\"The best parameters are:\")\n",
    "print(best_params_rfc)\n",
    "print(\"The best AUC score is {}\".format(best_auc))\n",
    "print(\"The standard deviation of all AUC values is {}\".format(np.std(auc_list)))\n"
   ]
  },
  {
   "cell_type": "markdown",
   "id": "shared-handle",
   "metadata": {},
   "source": [
    "The AUC values for both models with every parameter combination are extremely similar. It is disappointing that we do not gain any improvement by model tuning. On the other hand, the models are very consistent. <br/>\n",
    "\n",
    "We will decide to use Logistic Regression with its best parameters in our model."
   ]
  },
  {
   "cell_type": "markdown",
   "id": "humanitarian-turner",
   "metadata": {},
   "source": [
    "### Finding a prediciton threshold that minimizes costs\n",
    "We will use the function `calculate_costs` to calculate the cost of binary prediction. Using this function, we will perform a grid search over possible threshold values and find the threshold that minimizes our costs with function `find_optimal_threshold`."
   ]
  },
  {
   "cell_type": "code",
   "execution_count": 38,
   "id": "optional-alias",
   "metadata": {
    "scrolled": true
   },
   "outputs": [],
   "source": [
    "def calculate_costs(X, y, y_pred):\n",
    "    costs = 0\n",
    "    differences = y-y_pred\n",
    "    fn = differences == 1\n",
    "    fp = differences == -1\n",
    "    \n",
    "    X.reset_index()\n",
    "    costs += X.loc[fp, 'item_price'].sum() * 0.5\n",
    "    costs += X.loc[fn, 'item_price'].sum() * 0.25\n",
    "    costs += np.sum(fn) * 7.5\n",
    "    \n",
    "    return costs.round(2)\n",
    "\n",
    "\n",
    "def find_optimal_threshold(X, y, y_probs):\n",
    "    best_threshold = 0\n",
    "    lowest_cost = np.inf\n",
    "    for threshold in np.linspace(0, 1, 101):\n",
    "        y_pred = y_probs > threshold\n",
    "        cost = calculate_costs(X, y, y_pred)\n",
    "        if cost < lowest_cost:\n",
    "            lowest_cost = cost\n",
    "            best_threshold = threshold\n",
    "    \n",
    "    return best_threshold, lowest_cost"
   ]
  },
  {
   "cell_type": "markdown",
   "id": "pending-nursing",
   "metadata": {},
   "source": [
    "Now, we will use our defined functions. We will split our dataset 5 times in order to avoid variability. Our final threshold will be computed as the average of the 5 thresholds computed."
   ]
  },
  {
   "cell_type": "code",
   "execution_count": 40,
   "id": "alike-malta",
   "metadata": {},
   "outputs": [
    {
     "name": "stdout",
     "output_type": "stream",
     "text": [
      "The best threshold is 0.56 with a standard deviation of 0.01.\n",
      "The average costs per item are 8.96€ with a standard deviation of 0.04€.\n"
     ]
    }
   ],
   "source": [
    "model = Model(LogisticRegression(penalty='elasticnet', solver='saga',random_state=seed, max_iter=200,\n",
    "                                 C=best_params_logit['C'], l1_ratio=best_params_logit['l1_ratio']))\n",
    "\n",
    "model = Pipeline([\n",
    "            ('c', DataTransformer()), # ('step_name', transfomer) always follow this format for transformers in the pipeline\n",
    "            ('scaler', StandardScaler()),\n",
    "            ('logit', LogisticRegression(penalty='l2', fit_intercept=True)) # ('step_name', fun()) add parantheses for other functions\n",
    "            ])\n",
    "\n",
    "data = pd.read_csv(\"BADS_WS2021_known.csv\", index_col='order_item_id')\n",
    "\n",
    "y = data['return'].copy()\n",
    "X = data.drop('return', axis=1).copy()\n",
    "\n",
    "num_splits = 5\n",
    "test_percentage = 0.3\n",
    "\n",
    "best_thresholds = []\n",
    "lowest_costs = []\n",
    "\n",
    "for iteration in range(num_splits):\n",
    "    X_train, X_test, y_train, y_test = train_test_split(X, y, test_size=test_percentage, random_state=seed+iteration)\n",
    "    model.fit(X_train,y_train)\n",
    "    y_probs = model.predict_proba(X_test)[:,1]\n",
    "    best_threshold, lowest_cost = find_optimal_threshold(X_test, y_test, y_probs)\n",
    "    best_thresholds.append(best_threshold)\n",
    "    lowest_costs.append(lowest_cost)\n",
    "    \n",
    "final_threshold = np.mean(best_thresholds).round(2)\n",
    "lowest_costs = np.array(lowest_costs)\n",
    "lowest_costs = lowest_costs / (len(X)*test_percentage)\n",
    "final_costs = np.mean(lowest_costs).round(2)\n",
    "\n",
    "print(\"The best threshold is {} with a standard deviation of {}.\".format(final_threshold, np.std(best_thresholds).round(2)))\n",
    "print(\"The average costs per item are {}€ with a standard deviation of {}€.\".format(final_costs, np.std(lowest_costs).round(2)))"
   ]
  },
  {
   "cell_type": "markdown",
   "id": "great-timothy",
   "metadata": {},
   "source": [
    "## Prediction of the unknown values\n",
    "Now that we have our model and an optimal prediction threshold to minimize cost, we will train our model on all the known data points and make a prediction of the unknown values."
   ]
  },
  {
   "cell_type": "code",
   "execution_count": 41,
   "id": "banned-nepal",
   "metadata": {},
   "outputs": [],
   "source": [
    "model = Model(LogisticRegression(penalty='l2', fit_intercept=True))\n",
    "model.fit(X,y)\n",
    "y_preds = model.predict(df_unknown, final_threshold)"
   ]
  },
  {
   "cell_type": "code",
   "execution_count": 42,
   "id": "beautiful-mystery",
   "metadata": {},
   "outputs": [],
   "source": [
    "predictions = pd.Series(y_preds, index=df_unknown.index, name='return') "
   ]
  },
  {
   "cell_type": "code",
   "execution_count": 43,
   "id": "reliable-mountain",
   "metadata": {},
   "outputs": [],
   "source": [
    "predictions.to_csv('final_predictions.csv')"
   ]
  },
  {
   "cell_type": "markdown",
   "id": "automotive-leisure",
   "metadata": {},
   "source": [
    "## Conclusion"
   ]
  },
  {
   "cell_type": "markdown",
   "id": "according-pavilion",
   "metadata": {},
   "source": [
    "The prediction of item returns is a difficult task. We found a good way to minimize cost, but the average cost in our dataset is still nearly 9€. In the end, the decision to return an item is often dependent on the taste of the customer and other factors that we can not observe. Still, our model should still be helpful to our retail company. <br/>\n",
    "There are some more interesting approaches to tackle the problem that we did not pursuit. For example, it would be interesting to use a Neural Network as our estimator. Also, one could use a clustering algorithm on users or items to engineer better features. Theses approaches could improve the results further."
   ]
  }
 ],
 "metadata": {
  "kernelspec": {
   "display_name": "Python 3",
   "language": "python",
   "name": "python3"
  },
  "language_info": {
   "codemirror_mode": {
    "name": "ipython",
    "version": 3
   },
   "file_extension": ".py",
   "mimetype": "text/x-python",
   "name": "python",
   "nbconvert_exporter": "python",
   "pygments_lexer": "ipython3",
   "version": "3.8.5"
  }
 },
 "nbformat": 4,
 "nbformat_minor": 5
}
